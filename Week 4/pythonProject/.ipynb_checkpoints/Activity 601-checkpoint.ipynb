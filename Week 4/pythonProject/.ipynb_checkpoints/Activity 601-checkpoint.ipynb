{
 "cells": [
  {
   "cell_type": "code",
   "id": "4f87b08b0317c52e",
   "metadata": {
    "ExecuteTime": {
     "end_time": "2024-11-10T02:31:55.676111Z",
     "start_time": "2024-11-10T02:31:55.663093Z"
    }
   },
   "source": [
    "# Import required libraries\n",
    "from sqlalchemy import create_engine\n",
    "import pandas as pd\n",
    "import configparser\n",
    "from urllib.parse import quote_plus\n",
    "import os\n",
    "import matplotlib.pyplot as plt\n",
    "from typing_extensions import override\n",
    "# from tornado.gen import multi\n"
   ],
   "outputs": [],
   "execution_count": 80
  },
  {
   "metadata": {
    "collapsed": true,
    "ExecuteTime": {
     "end_time": "2024-11-10T02:31:55.692317Z",
     "start_time": "2024-11-10T02:31:55.685190Z"
    }
   },
   "cell_type": "code",
   "source": [
    "# Define configuration reader - create a definition for read the config.ini file and look for 'postgresql' section in file\n",
    "def get_db_config():\n",
    "    config = configparser.ConfigParser()\n",
    "    config.read('config.ini')\n",
    "    return config['postgresql-sqlda2']\n",
    "\n",
    "db_config = get_db_config()"
   ],
   "id": "initial_id",
   "outputs": [],
   "execution_count": 81
  },
  {
   "metadata": {},
   "cell_type": "markdown",
   "source": "#### 1. Copy the data from the public transportation dataset to the ZoomZoom customer database by importing this data into a new table in the ZoomZoom database.",
   "id": "b764ec18a8e29d73"
  },
  {
   "metadata": {
    "ExecuteTime": {
     "end_time": "2024-11-10T02:31:55.739934Z",
     "start_time": "2024-11-10T02:31:55.709331Z"
    }
   },
   "cell_type": "code",
   "source": [
    "# Read CSV File\n",
    "current_path = os.getcwd() # get the current working directory\n",
    "file_name = \"public_transportation_statistics_by_zip_code.csv\"\n",
    "csv_full_path = os.path.join(current_path, file_name) # use os join function to create csv full path\n",
    "\n",
    "csv_data = pd.read_csv(\n",
    "    csv_full_path, dtype={'zip_code': str}  # make sure the zip_code column is read as a string  \n",
    ")"
   ],
   "id": "1f94b65fe0296657",
   "outputs": [],
   "execution_count": 82
  },
  {
   "metadata": {
    "ExecuteTime": {
     "end_time": "2024-11-10T02:31:55.770658Z",
     "start_time": "2024-11-10T02:31:55.757349Z"
    }
   },
   "cell_type": "code",
   "source": [
    "# take a look at data using head() for first 5 rows\n",
    "csv_data.head()"
   ],
   "id": "d0dd2c23663542d",
   "outputs": [
    {
     "data": {
      "text/plain": [
       "  zip_code  public_transportation_pct  public_transportation_population\n",
       "0    01379                        3.3                                13\n",
       "1    01440                        0.4                                34\n",
       "2    01505                        0.9                                23\n",
       "3    01524                        0.5                                20\n",
       "4    01529                        1.8                                32"
      ],
      "text/html": [
       "<div>\n",
       "<style scoped>\n",
       "    .dataframe tbody tr th:only-of-type {\n",
       "        vertical-align: middle;\n",
       "    }\n",
       "\n",
       "    .dataframe tbody tr th {\n",
       "        vertical-align: top;\n",
       "    }\n",
       "\n",
       "    .dataframe thead th {\n",
       "        text-align: right;\n",
       "    }\n",
       "</style>\n",
       "<table border=\"1\" class=\"dataframe\">\n",
       "  <thead>\n",
       "    <tr style=\"text-align: right;\">\n",
       "      <th></th>\n",
       "      <th>zip_code</th>\n",
       "      <th>public_transportation_pct</th>\n",
       "      <th>public_transportation_population</th>\n",
       "    </tr>\n",
       "  </thead>\n",
       "  <tbody>\n",
       "    <tr>\n",
       "      <th>0</th>\n",
       "      <td>01379</td>\n",
       "      <td>3.3</td>\n",
       "      <td>13</td>\n",
       "    </tr>\n",
       "    <tr>\n",
       "      <th>1</th>\n",
       "      <td>01440</td>\n",
       "      <td>0.4</td>\n",
       "      <td>34</td>\n",
       "    </tr>\n",
       "    <tr>\n",
       "      <th>2</th>\n",
       "      <td>01505</td>\n",
       "      <td>0.9</td>\n",
       "      <td>23</td>\n",
       "    </tr>\n",
       "    <tr>\n",
       "      <th>3</th>\n",
       "      <td>01524</td>\n",
       "      <td>0.5</td>\n",
       "      <td>20</td>\n",
       "    </tr>\n",
       "    <tr>\n",
       "      <th>4</th>\n",
       "      <td>01529</td>\n",
       "      <td>1.8</td>\n",
       "      <td>32</td>\n",
       "    </tr>\n",
       "  </tbody>\n",
       "</table>\n",
       "</div>"
      ]
     },
     "execution_count": 83,
     "metadata": {},
     "output_type": "execute_result"
    }
   ],
   "execution_count": 83
  },
  {
   "metadata": {
    "ExecuteTime": {
     "end_time": "2024-11-10T02:31:55.832574Z",
     "start_time": "2024-11-10T02:31:55.820100Z"
    }
   },
   "cell_type": "code",
   "source": [
    "# Set up database connection\n",
    "cnxn_string = ( \n",
    "    \"postgresql+psycopg2://{username}:{pswd}@{host}:{port}/{database}\" \n",
    ")\n",
    "engine = create_engine( \n",
    "    cnxn_string.format( \n",
    "        username=db_config['user'], \n",
    "        pswd=quote_plus(db_config['password']), #use quote_plus for complex passwords\n",
    "        host=db_config['host'], \n",
    "        port=db_config['port'], \n",
    "        database=db_config['database'] \n",
    "    ) \n",
    ")"
   ],
   "id": "d786e771a764c7f1",
   "outputs": [],
   "execution_count": 84
  },
  {
   "metadata": {
    "ExecuteTime": {
     "end_time": "2024-11-10T02:31:57.595369Z",
     "start_time": "2024-11-10T02:31:55.880222Z"
    }
   },
   "cell_type": "code",
   "source": [
    "# load data to sql\n",
    "csv_data.to_sql (\n",
    "    name='public_transportation_by_zip',\n",
    "    con=engine,\n",
    "    if_exists='replace',\n",
    "    index=False,\n",
    "    method='multi',\n",
    "    chunksize=10000\n",
    ")"
   ],
   "id": "820e9dddcdeb56f3",
   "outputs": [
    {
     "data": {
      "text/plain": [
       "33120"
      ]
     },
     "execution_count": 85,
     "metadata": {},
     "output_type": "execute_result"
    }
   ],
   "execution_count": 85
  },
  {
   "metadata": {},
   "cell_type": "markdown",
   "source": "#### 2. Find the maximum and minimum values of public_transportation_pct in this data. Values less than 0 will most likely be missing data.",
   "id": "dcaa3348cf0c2342"
  },
  {
   "metadata": {
    "ExecuteTime": {
     "end_time": "2024-11-10T02:31:57.626968Z",
     "start_time": "2024-11-10T02:31:57.608907Z"
    }
   },
   "cell_type": "code",
   "source": [
    "# max from csv data\n",
    "max_pct = csv_data.public_transportation_pct.max()\n",
    "print(\"CSV max_pct: \", max_pct)"
   ],
   "id": "4bf468a6383788cf",
   "outputs": [
    {
     "name": "stdout",
     "output_type": "stream",
     "text": [
      "CSV max_pct:  100.0\n"
     ]
    }
   ],
   "execution_count": 86
  },
  {
   "metadata": {
    "ExecuteTime": {
     "end_time": "2024-11-10T02:31:57.658558Z",
     "start_time": "2024-11-10T02:31:57.644529Z"
    }
   },
   "cell_type": "code",
   "source": [
    "# min from csv data\n",
    "min_pct = csv_data.public_transportation_pct.min()\n",
    "print(\"CSV min_pct: \", min_pct)"
   ],
   "id": "dcaffcb90fb8ca37",
   "outputs": [
    {
     "name": "stdout",
     "output_type": "stream",
     "text": [
      "CSV min_pct:  -666666666.0\n"
     ]
    }
   ],
   "execution_count": 87
  },
  {
   "metadata": {
    "ExecuteTime": {
     "end_time": "2024-11-10T02:31:57.704505Z",
     "start_time": "2024-11-10T02:31:57.679529Z"
    }
   },
   "cell_type": "code",
   "source": [
    "# compare with data in postgresSql\n",
    "query = \"\"\"\n",
    "    select\n",
    "        max(public_transportation_pct) as max_pct,\n",
    "        min(public_transportation_pct) as min_pct\n",
    "    from public_transportation_by_zip        \n",
    "\"\"\"\n",
    "\n",
    "sql_data = pd.read_sql_query(query, engine)\n",
    "\n",
    "sql_data"
   ],
   "id": "9a227dffde9b90f7",
   "outputs": [
    {
     "data": {
      "text/plain": [
       "   max_pct      min_pct\n",
       "0    100.0 -666666666.0"
      ],
      "text/html": [
       "<div>\n",
       "<style scoped>\n",
       "    .dataframe tbody tr th:only-of-type {\n",
       "        vertical-align: middle;\n",
       "    }\n",
       "\n",
       "    .dataframe tbody tr th {\n",
       "        vertical-align: top;\n",
       "    }\n",
       "\n",
       "    .dataframe thead th {\n",
       "        text-align: right;\n",
       "    }\n",
       "</style>\n",
       "<table border=\"1\" class=\"dataframe\">\n",
       "  <thead>\n",
       "    <tr style=\"text-align: right;\">\n",
       "      <th></th>\n",
       "      <th>max_pct</th>\n",
       "      <th>min_pct</th>\n",
       "    </tr>\n",
       "  </thead>\n",
       "  <tbody>\n",
       "    <tr>\n",
       "      <th>0</th>\n",
       "      <td>100.0</td>\n",
       "      <td>-666666666.0</td>\n",
       "    </tr>\n",
       "  </tbody>\n",
       "</table>\n",
       "</div>"
      ]
     },
     "execution_count": 88,
     "metadata": {},
     "output_type": "execute_result"
    }
   ],
   "execution_count": 88
  },
  {
   "metadata": {},
   "cell_type": "markdown",
   "source": "the result from the min/max of the csv are the same as the the data from SQL, we can also deduce that the min value is wrong since percentage should be 0 and not negative values this would show that some of the data is potentially missing or invalid.",
   "id": "94b52199db062208"
  },
  {
   "metadata": {},
   "cell_type": "markdown",
   "source": "#### 3. Calculate the average sales amounts for customers that live in high public transportation usage regions (over 10%) as well as low public transportation usage regions (less than, or equal to, 10%).",
   "id": "fc4436233e0d1a1a"
  },
  {
   "metadata": {
    "ExecuteTime": {
     "end_time": "2024-11-10T02:31:57.843903Z",
     "start_time": "2024-11-10T02:31:57.752219Z"
    }
   },
   "cell_type": "code",
   "source": [
    "from sqlalchemy import text # was having issues executing CTE without this\n",
    "\n",
    "avg_sales_query = text(\"\"\"\n",
    "    WITH customer_transport AS (\n",
    "        SELECT\n",
    "            c.customer_id,\n",
    "            pt.zip_code,\n",
    "            CASE\n",
    "                WHEN pt.public_transportation_pct > 10 THEN 'High Usage (>10%)'\n",
    "                WHEN pt.public_transportation_pct <= 10 AND pt.public_transportation_pct >= 0 THEN 'Low Usage (≤10%)'\n",
    "                ELSE 'Invalid Data'\n",
    "                END AS transport_usage_category\n",
    "        FROM customers c\n",
    "                 LEFT JOIN public_transportation_by_zip pt ON c.postal_code = pt.zip_code\n",
    "    ),\n",
    "         sales_summary AS (\n",
    "             SELECT\n",
    "                 ct.transport_usage_category,\n",
    "                 COUNT(DISTINCT ct.customer_id) as number_customers,\n",
    "                 AVG(s.sales_amount) as avg_sale_amount\n",
    "             FROM customer_transport ct\n",
    "                      LEFT JOIN sales s ON ct.customer_id = s.customer_id\n",
    "             WHERE ct.transport_usage_category != 'Invalid Data'\n",
    "             GROUP BY ct.transport_usage_category\n",
    "         )\n",
    "    SELECT\n",
    "        transport_usage_category,\n",
    "        number_customers,\n",
    "        ROUND(avg_sale_amount::numeric, 2) as avg_sale_amount\n",
    "    FROM sales_summary\n",
    "    ORDER BY transport_usage_category;\n",
    "\"\"\")\n",
    "\n",
    "avg_sales_data = pd.read_sql_query(avg_sales_query, engine)\n",
    "\n",
    "avg_sales_data"
   ],
   "id": "bddb46352cad539",
   "outputs": [
    {
     "data": {
      "text/plain": [
       "  transport_usage_category  number_customers  avg_sale_amount\n",
       "0        High Usage (>10%)              3545          6501.98\n",
       "1         Low Usage (≤10%)             16067          7209.68"
      ],
      "text/html": [
       "<div>\n",
       "<style scoped>\n",
       "    .dataframe tbody tr th:only-of-type {\n",
       "        vertical-align: middle;\n",
       "    }\n",
       "\n",
       "    .dataframe tbody tr th {\n",
       "        vertical-align: top;\n",
       "    }\n",
       "\n",
       "    .dataframe thead th {\n",
       "        text-align: right;\n",
       "    }\n",
       "</style>\n",
       "<table border=\"1\" class=\"dataframe\">\n",
       "  <thead>\n",
       "    <tr style=\"text-align: right;\">\n",
       "      <th></th>\n",
       "      <th>transport_usage_category</th>\n",
       "      <th>number_customers</th>\n",
       "      <th>avg_sale_amount</th>\n",
       "    </tr>\n",
       "  </thead>\n",
       "  <tbody>\n",
       "    <tr>\n",
       "      <th>0</th>\n",
       "      <td>High Usage (&gt;10%)</td>\n",
       "      <td>3545</td>\n",
       "      <td>6501.98</td>\n",
       "    </tr>\n",
       "    <tr>\n",
       "      <th>1</th>\n",
       "      <td>Low Usage (≤10%)</td>\n",
       "      <td>16067</td>\n",
       "      <td>7209.68</td>\n",
       "    </tr>\n",
       "  </tbody>\n",
       "</table>\n",
       "</div>"
      ]
     },
     "execution_count": 89,
     "metadata": {},
     "output_type": "execute_result"
    }
   ],
   "execution_count": 89
  },
  {
   "metadata": {},
   "cell_type": "markdown",
   "source": "#### 4. Read the data into pandas and plot a histogram of the distribution (Hint: you can use my_data.plot.hist(y='public_transportation_pct') to plot a histogram if you read the data into a my_data pandas DataFrame).",
   "id": "1b118dd7bf46cf08"
  },
  {
   "metadata": {
    "ExecuteTime": {
     "end_time": "2024-11-10T02:31:57.952268Z",
     "start_time": "2024-11-10T02:31:57.907086Z"
    }
   },
   "cell_type": "code",
   "source": [
    "# get data for histogram, remove null is any, get only data greater than 0\n",
    "query = \"\"\"\n",
    "    select\n",
    "        *\n",
    "    from public_transportation_by_zip\n",
    "    where\n",
    "        coalesce(public_transportation_pct, 0) > 0        \n",
    "\"\"\"\n",
    "\n",
    "my_data = pd.read_sql_query(query, engine)\n",
    "my_data"
   ],
   "id": "bd4202d5bf3ec5b",
   "outputs": [
    {
     "data": {
      "text/plain": [
       "      zip_code  public_transportation_pct  public_transportation_population\n",
       "0        01379                        3.3                                13\n",
       "1        01440                        0.4                                34\n",
       "2        01505                        0.9                                23\n",
       "3        01524                        0.5                                20\n",
       "4        01529                        1.8                                32\n",
       "...        ...                        ...                               ...\n",
       "15533    61604                        3.9                               528\n",
       "15534    61614                        1.0                               142\n",
       "15535    61721                        0.6                                 2\n",
       "15536    61732                        0.3                                 3\n",
       "15537    61275                        1.0                                19\n",
       "\n",
       "[15538 rows x 3 columns]"
      ],
      "text/html": [
       "<div>\n",
       "<style scoped>\n",
       "    .dataframe tbody tr th:only-of-type {\n",
       "        vertical-align: middle;\n",
       "    }\n",
       "\n",
       "    .dataframe tbody tr th {\n",
       "        vertical-align: top;\n",
       "    }\n",
       "\n",
       "    .dataframe thead th {\n",
       "        text-align: right;\n",
       "    }\n",
       "</style>\n",
       "<table border=\"1\" class=\"dataframe\">\n",
       "  <thead>\n",
       "    <tr style=\"text-align: right;\">\n",
       "      <th></th>\n",
       "      <th>zip_code</th>\n",
       "      <th>public_transportation_pct</th>\n",
       "      <th>public_transportation_population</th>\n",
       "    </tr>\n",
       "  </thead>\n",
       "  <tbody>\n",
       "    <tr>\n",
       "      <th>0</th>\n",
       "      <td>01379</td>\n",
       "      <td>3.3</td>\n",
       "      <td>13</td>\n",
       "    </tr>\n",
       "    <tr>\n",
       "      <th>1</th>\n",
       "      <td>01440</td>\n",
       "      <td>0.4</td>\n",
       "      <td>34</td>\n",
       "    </tr>\n",
       "    <tr>\n",
       "      <th>2</th>\n",
       "      <td>01505</td>\n",
       "      <td>0.9</td>\n",
       "      <td>23</td>\n",
       "    </tr>\n",
       "    <tr>\n",
       "      <th>3</th>\n",
       "      <td>01524</td>\n",
       "      <td>0.5</td>\n",
       "      <td>20</td>\n",
       "    </tr>\n",
       "    <tr>\n",
       "      <th>4</th>\n",
       "      <td>01529</td>\n",
       "      <td>1.8</td>\n",
       "      <td>32</td>\n",
       "    </tr>\n",
       "    <tr>\n",
       "      <th>...</th>\n",
       "      <td>...</td>\n",
       "      <td>...</td>\n",
       "      <td>...</td>\n",
       "    </tr>\n",
       "    <tr>\n",
       "      <th>15533</th>\n",
       "      <td>61604</td>\n",
       "      <td>3.9</td>\n",
       "      <td>528</td>\n",
       "    </tr>\n",
       "    <tr>\n",
       "      <th>15534</th>\n",
       "      <td>61614</td>\n",
       "      <td>1.0</td>\n",
       "      <td>142</td>\n",
       "    </tr>\n",
       "    <tr>\n",
       "      <th>15535</th>\n",
       "      <td>61721</td>\n",
       "      <td>0.6</td>\n",
       "      <td>2</td>\n",
       "    </tr>\n",
       "    <tr>\n",
       "      <th>15536</th>\n",
       "      <td>61732</td>\n",
       "      <td>0.3</td>\n",
       "      <td>3</td>\n",
       "    </tr>\n",
       "    <tr>\n",
       "      <th>15537</th>\n",
       "      <td>61275</td>\n",
       "      <td>1.0</td>\n",
       "      <td>19</td>\n",
       "    </tr>\n",
       "  </tbody>\n",
       "</table>\n",
       "<p>15538 rows × 3 columns</p>\n",
       "</div>"
      ]
     },
     "execution_count": 90,
     "metadata": {},
     "output_type": "execute_result"
    }
   ],
   "execution_count": 90
  },
  {
   "metadata": {
    "ExecuteTime": {
     "end_time": "2024-11-10T02:31:58.278648Z",
     "start_time": "2024-11-10T02:31:58.107870Z"
    }
   },
   "cell_type": "code",
   "source": "my_data.plot.hist(y='public_transportation_pct')",
   "id": "cfae0940efc2148d",
   "outputs": [
    {
     "data": {
      "text/plain": [
       "<Axes: ylabel='Frequency'>"
      ]
     },
     "execution_count": 91,
     "metadata": {},
     "output_type": "execute_result"
    },
    {
     "data": {
      "text/plain": [
       "<Figure size 640x480 with 1 Axes>"
      ],
      "image/png": "[encoded data removed]"
     },
     "metadata": {},
     "output_type": "display_data"
    }
   ],
   "execution_count": 91
  },
  {
   "metadata": {},
   "cell_type": "markdown",
   "source": "#### 5. Using pandas, test using the to_sql function with and without the method=psql_insert_COPY parameter. How do the speeds compare? (Hint: in a Jupyter notebook, you can add %time in front of your command to see how long it takes to execute the code.)",
   "id": "e56c4d851af69808"
  },
  {
   "metadata": {
    "ExecuteTime": {
     "end_time": "2024-11-10T02:31:58.617364Z",
     "start_time": "2024-11-10T02:31:58.327905Z"
    }
   },
   "cell_type": "code",
   "source": [
    "%time \n",
    "my_data.to_sql (\n",
    "    name='public_transportation_by_zip_test1',\n",
    "    con=engine,\n",
    "    if_exists='replace',\n",
    "    index=False,\n",
    "    chunksize=10000\n",
    ")"
   ],
   "id": "7fb523b4c68776b9",
   "outputs": [
    {
     "name": "stdout",
     "output_type": "stream",
     "text": [
      "CPU times: total: 0 ns\n",
      "Wall time: 0 ns\n"
     ]
    },
    {
     "data": {
      "text/plain": [
       "1538"
      ]
     },
     "execution_count": 92,
     "metadata": {},
     "output_type": "execute_result"
    }
   ],
   "execution_count": 92
  },
  {
   "metadata": {
    "ExecuteTime": {
     "end_time": "2024-11-10T02:31:59.504886Z",
     "start_time": "2024-11-10T02:31:58.629785Z"
    }
   },
   "cell_type": "code",
   "source": [
    "%time \n",
    "my_data.to_sql (\n",
    "    name='public_transportation_by_zip_test2',\n",
    "    con=engine,\n",
    "    if_exists='replace',\n",
    "    index=False,\n",
    "    method='multi',\n",
    "    chunksize=10000\n",
    ")"
   ],
   "id": "71257fc2fbe8fb4f",
   "outputs": [
    {
     "name": "stdout",
     "output_type": "stream",
     "text": [
      "CPU times: total: 0 ns\n",
      "Wall time: 0 ns\n"
     ]
    },
    {
     "data": {
      "text/plain": [
       "15538"
      ]
     },
     "execution_count": 93,
     "metadata": {},
     "output_type": "execute_result"
    }
   ],
   "execution_count": 93
  },
  {
   "metadata": {},
   "cell_type": "markdown",
   "source": "The multi method is significantly faster and actually imported all the data. Not using multi resulted in a partial import that while it looked faster on a per-record basis would be 4 times faster. Trying to use psql_insert_copy result in invalid parameter, this seems to have been replaced by multi based on Google search.",
   "id": "8380b39c03438013"
  },
  {
   "metadata": {},
   "cell_type": "markdown",
   "source": "#### 6. Group customers based on their zip code public transportation usage rounded to the nearest 10% and look at the average number of transactions per customer. Export this data to Excel and create a scatterplot to better understand the relationship between public transportation usage and sales.",
   "id": "6fbaf08f1aa9d193"
  },
  {
   "metadata": {
    "ExecuteTime": {
     "end_time": "2024-11-10T02:44:51.734244Z",
     "start_time": "2024-11-10T02:44:51.647812Z"
    }
   },
   "cell_type": "code",
   "source": [
    "from sqlalchemy import text # was having issues executing CTE without this\n",
    "\n",
    "research_query = text(\"\"\"\n",
    "    WITH customer_transactions AS (\n",
    "        SELECT\n",
    "            c.customer_id,\n",
    "            c.postal_code,\n",
    "            COUNT(s.sales_transaction_date) as num_transactions\n",
    "        FROM customers c\n",
    "                 LEFT JOIN sales s ON c.customer_id = s.customer_id\n",
    "        GROUP BY c.customer_id, c.postal_code\n",
    "    ),\n",
    "         zip_level_data AS (\n",
    "             SELECT\n",
    "                 ct.postal_code as zip_code,\n",
    "                 coalesce(pt.public_transportation_pct,0) as transport_usage_pct,\n",
    "                 AVG(coalesce(ct.num_transactions,0)) as avg_transactions_per_customer,\n",
    "                 COUNT(DISTINCT ct.customer_id) as number_of_customers\n",
    "             FROM customer_transactions ct\n",
    "                      JOIN public_transportation_by_zip pt ON ct.postal_code = pt.zip_code\n",
    "             where coalesce(pt.public_transportation_pct,0) > 0\n",
    "             GROUP BY ct.postal_code, pt.public_transportation_pct\n",
    "         )\n",
    "    SELECT\n",
    "        zip_code,\n",
    "        ROUND(transport_usage_pct::numeric, 2) as transport_usage_pct,\n",
    "        ROUND(avg_transactions_per_customer::numeric, 2) as avg_transactions_per_customer,\n",
    "        number_of_customers\n",
    "    FROM zip_level_data\n",
    "    ORDER BY zip_code;\n",
    "\"\"\")\n",
    "\n",
    "research_data = pd.read_sql_query(research_query, engine)\n",
    "\n",
    "research_data"
   ],
   "id": "e0d997315c943c26",
   "outputs": [
    {
     "data": {
      "text/plain": [
       "    zip_code  transport_usage_pct  avg_transactions_per_customer  \\\n",
       "0      01105                  7.1                           0.96   \n",
       "1      01605                  5.4                           0.59   \n",
       "2      01610                  5.9                           0.52   \n",
       "3      01905                 12.4                           0.68   \n",
       "4      02109                 18.3                           0.71   \n",
       "..       ...                  ...                            ...   \n",
       "740    98682                  1.5                           0.76   \n",
       "741    99205                  4.1                           0.89   \n",
       "742    99507                  0.7                           1.04   \n",
       "743    99517                  1.9                           0.64   \n",
       "744    99709                  0.7                           0.56   \n",
       "\n",
       "     number_of_customers  \n",
       "0                     25  \n",
       "1                     22  \n",
       "2                     21  \n",
       "3                     19  \n",
       "4                     17  \n",
       "..                   ...  \n",
       "740                   21  \n",
       "741                   28  \n",
       "742                   28  \n",
       "743                   25  \n",
       "744                   32  \n",
       "\n",
       "[745 rows x 4 columns]"
      ],
      "text/html": [
       "<div>\n",
       "<style scoped>\n",
       "    .dataframe tbody tr th:only-of-type {\n",
       "        vertical-align: middle;\n",
       "    }\n",
       "\n",
       "    .dataframe tbody tr th {\n",
       "        vertical-align: top;\n",
       "    }\n",
       "\n",
       "    .dataframe thead th {\n",
       "        text-align: right;\n",
       "    }\n",
       "</style>\n",
       "<table border=\"1\" class=\"dataframe\">\n",
       "  <thead>\n",
       "    <tr style=\"text-align: right;\">\n",
       "      <th></th>\n",
       "      <th>zip_code</th>\n",
       "      <th>transport_usage_pct</th>\n",
       "      <th>avg_transactions_per_customer</th>\n",
       "      <th>number_of_customers</th>\n",
       "    </tr>\n",
       "  </thead>\n",
       "  <tbody>\n",
       "    <tr>\n",
       "      <th>0</th>\n",
       "      <td>01105</td>\n",
       "      <td>7.1</td>\n",
       "      <td>0.96</td>\n",
       "      <td>25</td>\n",
       "    </tr>\n",
       "    <tr>\n",
       "      <th>1</th>\n",
       "      <td>01605</td>\n",
       "      <td>5.4</td>\n",
       "      <td>0.59</td>\n",
       "      <td>22</td>\n",
       "    </tr>\n",
       "    <tr>\n",
       "      <th>2</th>\n",
       "      <td>01610</td>\n",
       "      <td>5.9</td>\n",
       "      <td>0.52</td>\n",
       "      <td>21</td>\n",
       "    </tr>\n",
       "    <tr>\n",
       "      <th>3</th>\n",
       "      <td>01905</td>\n",
       "      <td>12.4</td>\n",
       "      <td>0.68</td>\n",
       "      <td>19</td>\n",
       "    </tr>\n",
       "    <tr>\n",
       "      <th>4</th>\n",
       "      <td>02109</td>\n",
       "      <td>18.3</td>\n",
       "      <td>0.71</td>\n",
       "      <td>17</td>\n",
       "    </tr>\n",
       "    <tr>\n",
       "      <th>...</th>\n",
       "      <td>...</td>\n",
       "      <td>...</td>\n",
       "      <td>...</td>\n",
       "      <td>...</td>\n",
       "    </tr>\n",
       "    <tr>\n",
       "      <th>740</th>\n",
       "      <td>98682</td>\n",
       "      <td>1.5</td>\n",
       "      <td>0.76</td>\n",
       "      <td>21</td>\n",
       "    </tr>\n",
       "    <tr>\n",
       "      <th>741</th>\n",
       "      <td>99205</td>\n",
       "      <td>4.1</td>\n",
       "      <td>0.89</td>\n",
       "      <td>28</td>\n",
       "    </tr>\n",
       "    <tr>\n",
       "      <th>742</th>\n",
       "      <td>99507</td>\n",
       "      <td>0.7</td>\n",
       "      <td>1.04</td>\n",
       "      <td>28</td>\n",
       "    </tr>\n",
       "    <tr>\n",
       "      <th>743</th>\n",
       "      <td>99517</td>\n",
       "      <td>1.9</td>\n",
       "      <td>0.64</td>\n",
       "      <td>25</td>\n",
       "    </tr>\n",
       "    <tr>\n",
       "      <th>744</th>\n",
       "      <td>99709</td>\n",
       "      <td>0.7</td>\n",
       "      <td>0.56</td>\n",
       "      <td>32</td>\n",
       "    </tr>\n",
       "  </tbody>\n",
       "</table>\n",
       "<p>745 rows × 4 columns</p>\n",
       "</div>"
      ]
     },
     "execution_count": 94,
     "metadata": {},
     "output_type": "execute_result"
    }
   ],
   "execution_count": 94
  },
  {
   "metadata": {
    "ExecuteTime": {
     "end_time": "2024-11-10T02:50:06.462109Z",
     "start_time": "2024-11-10T02:50:06.447042Z"
    }
   },
   "cell_type": "code",
   "source": [
    "# output data to folder\n",
    "current_path = os.getcwd() # get the current working directory\n",
    "out_file_name = \"sales_vs_public_transport_pct.csv\"\n",
    "out_csv_full_path = os.path.join(current_path, out_file_name) # use os join function to create csv full path\n",
    "\n",
    "research_data.to_csv(out_csv_full_path, index=False, mode='w')"
   ],
   "id": "3af8e552091039b2",
   "outputs": [],
   "execution_count": 97
  },
  {
   "metadata": {},
   "cell_type": "code",
   "outputs": [],
   "execution_count": null,
   "source": [
    "import nbformat\n",
    "from nbconvert import DocxExporter\n",
    "\n",
    "# Read the notebook\n",
    "with open('YourNotebook.ipynb') as f:\n",
    "    nb = nbformat.read(f, as_version=4)\n",
    "\n",
    "# Convert to docx\n",
    "docx_exporter = DocxExporter()\n",
    "(body, resources) = docx_exporter.from_notebook_node(nb)\n",
    "\n",
    "# Write to file\n",
    "with open('output.docx', 'wb') as f:\n",
    "    f.write(body)"
   ],
   "id": "5cab8a91b5fe0bb9"
  }
 ],
 "metadata": {
  "kernelspec": {
   "display_name": "Python 3",
   "language": "python",
   "name": "python3"
  },
  "language_info": {
   "codemirror_mode": {
    "name": "ipython",
    "version": 2
   },
   "file_extension": ".py",
   "mimetype": "text/x-python",
   "name": "python",
   "nbconvert_exporter": "python",
   "pygments_lexer": "ipython2",
   "version": "2.7.6"
  }
 },
 "nbformat": 4,
 "nbformat_minor": 5
}
